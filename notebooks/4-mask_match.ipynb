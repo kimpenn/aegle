{
 "cells": [
  {
   "cell_type": "code",
   "execution_count": 15,
   "metadata": {},
   "outputs": [
    {
     "data": {
      "text/plain": [
       "array([[False, False, False, False, False, False, False, False, False,\n",
       "        False],\n",
       "       [False,  True,  True,  True, False, False,  True,  True,  True,\n",
       "        False],\n",
       "       [False,  True, False,  True, False, False,  True, False,  True,\n",
       "        False],\n",
       "       [False,  True,  True,  True, False, False,  True,  True,  True,\n",
       "        False],\n",
       "       [False, False, False, False,  True,  True,  True, False, False,\n",
       "        False],\n",
       "       [False, False, False, False,  True, False,  True, False,  True,\n",
       "        False],\n",
       "       [False, False, False, False,  True,  True,  True, False,  True,\n",
       "        False],\n",
       "       [False, False,  True,  True,  True, False, False, False,  True,\n",
       "        False],\n",
       "       [False, False,  True, False,  True, False, False, False,  True,\n",
       "        False],\n",
       "       [False, False,  True,  True,  True, False, False, False, False,\n",
       "        False],\n",
       "       [False, False, False, False, False, False, False, False, False,\n",
       "        False]])"
      ]
     },
     "execution_count": 15,
     "metadata": {},
     "output_type": "execute_result"
    }
   ],
   "source": [
    "from skimage.segmentation import find_boundaries\n",
    "import numpy as np\n",
    "mask = np.array(\n",
    "    [\n",
    "        [0, 0, 0, 0, 0, 0, 0, 0, 0, 0],  # Row 0\n",
    "        [0, 1, 1, 1, 0, 0, 2, 2, 2, 0],  # Row 1\n",
    "        [0, 1, 0, 1, 0, 0, 2, 2, 2, 0],  # Row 2\n",
    "        [0, 1, 1, 1, 0, 0, 2, 2, 2, 0],  # Row 3\n",
    "        [0, 0, 0, 0, 3, 3, 3, 0, 0, 0],  # Row 4\n",
    "        [0, 0, 0, 0, 3, 3, 3, 0, 4, 0],  # Row 5\n",
    "        [0, 0, 0, 0, 3, 3, 3, 0, 4, 0],  # Row 6\n",
    "        [0, 0, 5, 5, 5, 0, 0, 0, 4, 0],  # Row 7\n",
    "        [0, 0, 5, 5, 5, 0, 0, 0, 4, 0],  # Row 8\n",
    "        [0, 0, 5, 5, 5, 0, 0, 0, 0, 0],  # Row 9\n",
    "        [0, 0, 0, 0, 0, 0, 0, 0, 0, 0],  # Row 10\n",
    "    ]\n",
    ")\n",
    "boundary = find_boundaries(mask.astype(np.uint8), mode=\"inner\", connectivity=1)\n",
    "boundary"
   ]
  },
  {
   "cell_type": "code",
   "execution_count": 16,
   "metadata": {},
   "outputs": [
    {
     "data": {
      "text/plain": [
       "array([[False, False, False, False, False, False, False, False, False,\n",
       "        False],\n",
       "       [False,  True,  True,  True, False, False,  True,  True,  True,\n",
       "        False],\n",
       "       [False,  True, False,  True, False, False,  True, False,  True,\n",
       "        False],\n",
       "       [False,  True,  True,  True, False, False,  True,  True,  True,\n",
       "        False],\n",
       "       [False, False, False, False,  True,  True,  True, False, False,\n",
       "        False],\n",
       "       [False, False, False, False,  True, False,  True, False,  True,\n",
       "        False],\n",
       "       [False, False, False, False,  True,  True,  True, False,  True,\n",
       "        False],\n",
       "       [False, False,  True,  True,  True, False, False, False,  True,\n",
       "        False],\n",
       "       [False, False,  True, False,  True, False, False, False,  True,\n",
       "        False],\n",
       "       [False, False,  True, False,  True, False, False, False, False,\n",
       "        False]])"
      ]
     },
     "execution_count": 16,
     "metadata": {},
     "output_type": "execute_result"
    }
   ],
   "source": [
    "from skimage.segmentation import find_boundaries\n",
    "import numpy as np\n",
    "mask = np.array(\n",
    "    [\n",
    "        [0, 0, 0, 0, 0, 0, 0, 0, 0, 0],  # Row 0\n",
    "        [0, 1, 1, 1, 0, 0, 2, 2, 2, 0],  # Row 1\n",
    "        [0, 1, 0, 1, 0, 0, 2, 2, 2, 0],  # Row 2\n",
    "        [0, 1, 1, 1, 0, 0, 2, 2, 2, 0],  # Row 3\n",
    "        [0, 0, 0, 0, 3, 3, 3, 0, 0, 0],  # Row 4\n",
    "        [0, 0, 0, 0, 3, 3, 3, 0, 4, 0],  # Row 5\n",
    "        [0, 0, 0, 0, 3, 3, 3, 0, 4, 0],  # Row 6\n",
    "        [0, 0, 5, 5, 5, 0, 0, 0, 4, 0],  # Row 7\n",
    "        [0, 0, 5, 5, 5, 0, 0, 0, 4, 0],  # Row 8\n",
    "        [0, 0, 5, 5, 5, 0, 0, 0, 0, 0],  # Row 9\n",
    "    ]\n",
    ")\n",
    "boundary = find_boundaries(mask.astype(np.uint8), mode=\"inner\", connectivity=1)\n",
    "boundary"
   ]
  },
  {
   "cell_type": "code",
   "execution_count": 17,
   "metadata": {},
   "outputs": [
    {
     "data": {
      "text/plain": [
       "array([[False, False, False, False, False, False, False, False, False,\n",
       "        False],\n",
       "       [False,  True,  True,  True, False, False,  True,  True,  True,\n",
       "        False],\n",
       "       [False,  True, False,  True, False, False,  True, False,  True,\n",
       "        False],\n",
       "       [False,  True,  True,  True, False, False,  True,  True,  True,\n",
       "        False],\n",
       "       [False, False, False, False,  True,  True,  True, False, False,\n",
       "        False],\n",
       "       [False, False, False, False,  True, False,  True, False,  True,\n",
       "        False],\n",
       "       [False, False, False, False,  True,  True,  True, False,  True,\n",
       "        False],\n",
       "       [False,  True,  True,  True,  True, False, False, False,  True,\n",
       "        False],\n",
       "       [False,  True, False, False,  True, False, False, False,  True,\n",
       "        False],\n",
       "       [False,  True, False, False,  True, False, False, False, False,\n",
       "        False]])"
      ]
     },
     "execution_count": 17,
     "metadata": {},
     "output_type": "execute_result"
    }
   ],
   "source": [
    "from skimage.segmentation import find_boundaries\n",
    "import numpy as np\n",
    "mask = np.array(\n",
    "    [\n",
    "        [0, 0, 0, 0, 0, 0, 0, 0, 0, 0],  # Row 0\n",
    "        [0, 1, 1, 1, 0, 0, 2, 2, 2, 0],  # Row 1\n",
    "        [0, 1, 0, 1, 0, 0, 2, 2, 2, 0],  # Row 2\n",
    "        [0, 1, 1, 1, 0, 0, 2, 2, 2, 0],  # Row 3\n",
    "        [0, 0, 0, 0, 3, 3, 3, 0, 0, 0],  # Row 4\n",
    "        [0, 0, 0, 0, 3, 3, 3, 0, 4, 0],  # Row 5\n",
    "        [0, 0, 0, 0, 3, 3, 3, 0, 4, 0],  # Row 6\n",
    "        [0, 5, 5, 5, 5, 0, 0, 0, 4, 0],  # Row 7\n",
    "        [0, 5, 5, 5, 5, 0, 0, 0, 4, 0],  # Row 8\n",
    "        [0, 5, 5, 5, 5, 0, 0, 0, 0, 0],  # Row 9\n",
    "    ]\n",
    ")\n",
    "boundary = find_boundaries(mask.astype(np.uint8), mode=\"inner\", connectivity=1)\n",
    "boundary"
   ]
  },
  {
   "cell_type": "code",
   "execution_count": 21,
   "metadata": {},
   "outputs": [
    {
     "data": {
      "text/plain": [
       "array([[0, 0, 0, 0, 0, 0, 0, 0, 0, 0],\n",
       "       [0, 1, 1, 1, 0, 0, 1, 1, 1, 0],\n",
       "       [0, 1, 0, 1, 0, 0, 1, 0, 1, 0],\n",
       "       [0, 1, 1, 1, 0, 0, 1, 1, 1, 0],\n",
       "       [0, 0, 0, 0, 1, 1, 1, 0, 0, 0],\n",
       "       [0, 0, 0, 0, 1, 0, 1, 0, 1, 0],\n",
       "       [0, 0, 0, 0, 1, 1, 1, 0, 1, 0],\n",
       "       [0, 0, 1, 1, 1, 0, 0, 0, 1, 0],\n",
       "       [0, 0, 1, 0, 1, 0, 0, 0, 1, 0],\n",
       "       [0, 0, 1, 0, 1, 0, 0, 0, 0, 0]])"
      ]
     },
     "execution_count": 21,
     "metadata": {},
     "output_type": "execute_result"
    }
   ],
   "source": [
    "boundary.astype(int)"
   ]
  },
  {
   "cell_type": "code",
   "execution_count": 7,
   "metadata": {},
   "outputs": [],
   "source": [
    "def _get_indexed_mask(mask: np.ndarray, boundary: np.ndarray) -> np.ndarray:\n",
    "    \"\"\"\n",
    "    Convert a boundary mask into an indexed mask with the same cell identifiers.\n",
    "\n",
    "    Args:\n",
    "        mask (np.ndarray): Original mask with cell identifiers.\n",
    "        boundary (np.ndarray): Binary boundary mask.\n",
    "\n",
    "    Returns:\n",
    "        np.ndarray: Indexed boundary mask.\n",
    "    \"\"\"\n",
    "    boundary = boundary.astype(int)\n",
    "    boundary_loc = np.where(boundary == 1)\n",
    "    boundary[boundary_loc] = mask[boundary_loc]\n",
    "    return boundary"
   ]
  },
  {
   "cell_type": "code",
   "execution_count": 9,
   "metadata": {},
   "outputs": [
    {
     "data": {
      "text/plain": [
       "array([[0, 0, 0, 0, 0, 0, 0, 0, 0, 0],\n",
       "       [0, 1, 1, 1, 0, 0, 2, 2, 2, 0],\n",
       "       [0, 1, 0, 1, 0, 0, 2, 0, 2, 0],\n",
       "       [0, 1, 1, 1, 0, 0, 2, 2, 2, 0],\n",
       "       [0, 0, 0, 0, 3, 3, 3, 0, 0, 0],\n",
       "       [0, 0, 0, 0, 3, 0, 3, 0, 4, 0],\n",
       "       [0, 0, 0, 0, 3, 3, 3, 0, 4, 0],\n",
       "       [0, 0, 5, 5, 5, 0, 0, 0, 4, 0],\n",
       "       [0, 0, 5, 0, 5, 0, 0, 0, 4, 0],\n",
       "       [0, 0, 5, 5, 5, 0, 0, 0, 0, 0]])"
      ]
     },
     "execution_count": 9,
     "metadata": {},
     "output_type": "execute_result"
    }
   ],
   "source": [
    "_get_indexed_mask(mask, boundary)"
   ]
  },
  {
   "cell_type": "code",
   "execution_count": 12,
   "metadata": {},
   "outputs": [
    {
     "data": {
      "text/plain": [
       "array([[0, 0, 0, 0, 0, 0, 0, 0, 0, 0],\n",
       "       [0, 1, 1, 1, 0, 0, 2, 2, 2, 0],\n",
       "       [0, 1, 0, 1, 0, 0, 2, 0, 2, 0],\n",
       "       [0, 1, 1, 1, 0, 0, 2, 2, 2, 0],\n",
       "       [0, 0, 0, 0, 3, 3, 3, 0, 0, 0],\n",
       "       [0, 0, 0, 0, 3, 0, 3, 0, 4, 0],\n",
       "       [0, 0, 0, 0, 3, 3, 3, 0, 4, 0],\n",
       "       [0, 0, 5, 5, 5, 0, 0, 0, 4, 0],\n",
       "       [0, 0, 5, 0, 5, 0, 0, 0, 4, 0],\n",
       "       [0, 0, 5, 5, 5, 0, 0, 0, 0, 0]])"
      ]
     },
     "execution_count": 12,
     "metadata": {},
     "output_type": "execute_result"
    }
   ],
   "source": [
    "# Expected boundary mask\n",
    "expected_boundary = np.zeros_like(mask)\n",
    "\n",
    "# Object 1 boundary (label 1)\n",
    "expected_boundary[1, 1] = 1\n",
    "expected_boundary[1, 2] = 1\n",
    "expected_boundary[1, 3] = 1\n",
    "expected_boundary[2, 1] = 1\n",
    "expected_boundary[2, 3] = 1\n",
    "expected_boundary[3, 1] = 1\n",
    "expected_boundary[3, 2] = 1\n",
    "expected_boundary[3, 3] = 1\n",
    "\n",
    "# Object 2 boundary (label 2)\n",
    "expected_boundary[1, 6] = 2\n",
    "expected_boundary[1, 7] = 2\n",
    "expected_boundary[1, 8] = 2\n",
    "expected_boundary[2, 6] = 2\n",
    "expected_boundary[2, 8] = 2\n",
    "expected_boundary[3, 6] = 2\n",
    "expected_boundary[3, 7] = 2\n",
    "expected_boundary[3, 8] = 2\n",
    "\n",
    "# Object 3 boundary (label 3)\n",
    "expected_boundary[4, 4] = 3\n",
    "expected_boundary[4, 5] = 3\n",
    "expected_boundary[4, 6] = 3\n",
    "expected_boundary[5, 4] = 3\n",
    "expected_boundary[5, 6] = 3\n",
    "expected_boundary[6, 4] = 3\n",
    "expected_boundary[6, 5] = 3\n",
    "expected_boundary[6, 6] = 3\n",
    "\n",
    "# Object 4 boundary (label 4)\n",
    "expected_boundary[5, 8] = 4\n",
    "expected_boundary[6, 8] = 4\n",
    "expected_boundary[7, 8] = 4\n",
    "expected_boundary[8, 8] = 4\n",
    "\n",
    "# Object 5 boundary (label 5)\n",
    "expected_boundary[7, 2] = 5\n",
    "expected_boundary[7, 3] = 5\n",
    "expected_boundary[7, 4] = 5\n",
    "expected_boundary[8, 2] = 5\n",
    "expected_boundary[8, 4] = 5\n",
    "expected_boundary[9, 2] = 5\n",
    "expected_boundary[9, 3] = 5\n",
    "expected_boundary[9, 4] = 5\n",
    "\n",
    "expected_boundary"
   ]
  },
  {
   "cell_type": "code",
   "execution_count": 13,
   "metadata": {},
   "outputs": [
    {
     "ename": "AssertionError",
     "evalue": "\nArrays are not equal\n\nMismatched elements: 2 / 100 (2%)\nMax absolute difference: 3\nMax relative difference: 0.\n x: array([[0, 0, 0, 0, 0, 0, 0, 0, 0, 0],\n       [0, 1, 1, 1, 0, 0, 2, 2, 2, 0],\n       [0, 1, 1, 1, 0, 0, 2, 0, 2, 0],...\n y: array([[0, 0, 0, 0, 0, 0, 0, 0, 0, 0],\n       [0, 1, 1, 1, 0, 0, 2, 2, 2, 0],\n       [0, 1, 0, 1, 0, 0, 2, 0, 2, 0],...",
     "output_type": "error",
     "traceback": [
      "\u001b[0;31m---------------------------------------------------------------------------\u001b[0m",
      "\u001b[0;31mAssertionError\u001b[0m                            Traceback (most recent call last)",
      "Cell \u001b[0;32mIn[13], line 1\u001b[0m\n\u001b[0;32m----> 1\u001b[0m \u001b[43mnp\u001b[49m\u001b[38;5;241;43m.\u001b[39;49m\u001b[43mtesting\u001b[49m\u001b[38;5;241;43m.\u001b[39;49m\u001b[43massert_array_equal\u001b[49m\u001b[43m(\u001b[49m\u001b[43mmask\u001b[49m\u001b[43m,\u001b[49m\u001b[43m \u001b[49m\u001b[43mexpected_boundary\u001b[49m\u001b[43m)\u001b[49m\n",
      "    \u001b[0;31m[... skipping hidden 1 frame]\u001b[0m\n",
      "File \u001b[0;32m/usr/local/lib/python3.8/dist-packages/numpy/testing/_private/utils.py:844\u001b[0m, in \u001b[0;36massert_array_compare\u001b[0;34m(comparison, x, y, err_msg, verbose, header, precision, equal_nan, equal_inf)\u001b[0m\n\u001b[1;32m    840\u001b[0m         err_msg \u001b[38;5;241m+\u001b[39m\u001b[38;5;241m=\u001b[39m \u001b[38;5;124m'\u001b[39m\u001b[38;5;130;01m\\n\u001b[39;00m\u001b[38;5;124m'\u001b[39m \u001b[38;5;241m+\u001b[39m \u001b[38;5;124m'\u001b[39m\u001b[38;5;130;01m\\n\u001b[39;00m\u001b[38;5;124m'\u001b[39m\u001b[38;5;241m.\u001b[39mjoin(remarks)\n\u001b[1;32m    841\u001b[0m         msg \u001b[38;5;241m=\u001b[39m build_err_msg([ox, oy], err_msg,\n\u001b[1;32m    842\u001b[0m                             verbose\u001b[38;5;241m=\u001b[39mverbose, header\u001b[38;5;241m=\u001b[39mheader,\n\u001b[1;32m    843\u001b[0m                             names\u001b[38;5;241m=\u001b[39m(\u001b[38;5;124m'\u001b[39m\u001b[38;5;124mx\u001b[39m\u001b[38;5;124m'\u001b[39m, \u001b[38;5;124m'\u001b[39m\u001b[38;5;124my\u001b[39m\u001b[38;5;124m'\u001b[39m), precision\u001b[38;5;241m=\u001b[39mprecision)\n\u001b[0;32m--> 844\u001b[0m         \u001b[38;5;28;01mraise\u001b[39;00m \u001b[38;5;167;01mAssertionError\u001b[39;00m(msg)\n\u001b[1;32m    845\u001b[0m \u001b[38;5;28;01mexcept\u001b[39;00m \u001b[38;5;167;01mValueError\u001b[39;00m:\n\u001b[1;32m    846\u001b[0m     \u001b[38;5;28;01mimport\u001b[39;00m \u001b[38;5;21;01mtraceback\u001b[39;00m\n",
      "\u001b[0;31mAssertionError\u001b[0m: \nArrays are not equal\n\nMismatched elements: 2 / 100 (2%)\nMax absolute difference: 3\nMax relative difference: 0.\n x: array([[0, 0, 0, 0, 0, 0, 0, 0, 0, 0],\n       [0, 1, 1, 1, 0, 0, 2, 2, 2, 0],\n       [0, 1, 1, 1, 0, 0, 2, 0, 2, 0],...\n y: array([[0, 0, 0, 0, 0, 0, 0, 0, 0, 0],\n       [0, 1, 1, 1, 0, 0, 2, 2, 2, 0],\n       [0, 1, 0, 1, 0, 0, 2, 0, 2, 0],..."
     ]
    }
   ],
   "source": [
    "np.testing.assert_array_equal(mask, expected_boundary)"
   ]
  },
  {
   "cell_type": "code",
   "execution_count": 14,
   "metadata": {},
   "outputs": [
    {
     "data": {
      "text/plain": [
       "array([[0, 0, 0, 0, 0, 0, 0, 0, 0, 0],\n",
       "       [0, 1, 1, 1, 0, 0, 2, 2, 2, 0],\n",
       "       [0, 1, 1, 1, 0, 0, 2, 0, 2, 0],\n",
       "       [0, 1, 1, 1, 0, 0, 2, 2, 2, 0],\n",
       "       [0, 0, 0, 0, 3, 3, 3, 0, 0, 0],\n",
       "       [0, 0, 0, 0, 3, 3, 3, 0, 4, 0],\n",
       "       [0, 0, 0, 0, 3, 3, 3, 0, 4, 0],\n",
       "       [0, 0, 5, 5, 5, 0, 0, 0, 4, 0],\n",
       "       [0, 0, 5, 0, 5, 0, 0, 0, 4, 0],\n",
       "       [0, 0, 5, 5, 5, 0, 0, 0, 0, 0]])"
      ]
     },
     "execution_count": 14,
     "metadata": {},
     "output_type": "execute_result"
    }
   ],
   "source": [
    "mask"
   ]
  },
  {
   "cell_type": "code",
   "execution_count": null,
   "metadata": {},
   "outputs": [],
   "source": []
  }
 ],
 "metadata": {
  "kernelspec": {
   "display_name": "Python 3",
   "language": "python",
   "name": "python3"
  },
  "language_info": {
   "codemirror_mode": {
    "name": "ipython",
    "version": 3
   },
   "file_extension": ".py",
   "mimetype": "text/x-python",
   "name": "python",
   "nbconvert_exporter": "python",
   "pygments_lexer": "ipython3",
   "version": "3.8.10"
  }
 },
 "nbformat": 4,
 "nbformat_minor": 2
}
